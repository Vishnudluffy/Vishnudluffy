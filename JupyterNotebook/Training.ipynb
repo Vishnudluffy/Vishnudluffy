{
 "cells": [
  {
   "cell_type": "markdown",
   "id": "0d0b9ffc",
   "metadata": {},
   "source": [
    "# Pattern-1"
   ]
  },
  {
   "cell_type": "code",
   "execution_count": null,
   "id": "ecd1e47f",
   "metadata": {},
   "outputs": [],
   "source": [
    "'''\n",
    "when we print(i)\n",
    "1 \n",
    "2 2 \n",
    "3 3 3 \n",
    "4 4 4 4 \n",
    "5 5 5 5 5 \n",
    "6 6 6 6 6 6\n",
    "\n",
    "when we print(j)\n",
    "\n",
    "1 \n",
    "1 2 \n",
    "1 2 3 \n",
    "1 2 3 4 \n",
    "1 2 3 4 5 \n",
    "1 2 3 4 5 6 \n",
    "\n",
    "'''"
   ]
  },
  {
   "cell_type": "code",
   "execution_count": 1,
   "id": "9a0cbb7e",
   "metadata": {
    "scrolled": true
   },
   "outputs": [
    {
     "name": "stdout",
     "output_type": "stream",
     "text": [
      "enter a number:5\n",
      "1 \n",
      "2 2 \n",
      "3 3 3 \n",
      "4 4 4 4 \n",
      "5 5 5 5 5 \n"
     ]
    }
   ],
   "source": [
    "n = int(input(\"enter a number:\"))\n",
    "for i in range(1,n+1):\n",
    "    for j in range(1,i+1):\n",
    "        print(i,end=' ')\n",
    "#         print(j,end=' ')\n",
    "    print()"
   ]
  },
  {
   "cell_type": "markdown",
   "id": "130bf628",
   "metadata": {},
   "source": [
    "# Pattern-2"
   ]
  },
  {
   "cell_type": "code",
   "execution_count": 6,
   "id": "6dd71281",
   "metadata": {},
   "outputs": [
    {
     "name": "stdout",
     "output_type": "stream",
     "text": [
      "5\n",
      "\n",
      "1 \n",
      "3 5 \n",
      "8 11 14 \n",
      "18 22 26 30 \n",
      "35 40 45 50 55 \n"
     ]
    }
   ],
   "source": [
    "n= int(input())\n",
    "s=0\n",
    "for i in range(0,n+1):\n",
    "    for j in range(i):\n",
    "        s+=i\n",
    "        print(s,end=' ')\n",
    "    print()"
   ]
  },
  {
   "cell_type": "markdown",
   "id": "337d4f94",
   "metadata": {},
   "source": [
    "# List"
   ]
  },
  {
   "cell_type": "code",
   "execution_count": null,
   "id": "84d7041e",
   "metadata": {},
   "outputs": [],
   "source": [
    "'''\n",
    "list : Collection of different datatypes into a single varible and enclosed in square brackets and the data is separated by\\\n",
    "comma is called list\n",
    "\n",
    "list is declared by using '[]'\n",
    "list is hetrogenous datatype\n",
    "List is mutable\n",
    "list is ordered\n",
    "list is indexed\n",
    "list allows duplicate values\n",
    "'''"
   ]
  },
  {
   "cell_type": "code",
   "execution_count": 1,
   "id": "d5c73746",
   "metadata": {},
   "outputs": [
    {
     "name": "stdout",
     "output_type": "stream",
     "text": [
      "[2]\n"
     ]
    }
   ],
   "source": [
    "l = [1,2,3,4,5,6,7,8,9]\n",
    "print(l[1:-6:-1]) # start:stop:stepsize"
   ]
  },
  {
   "cell_type": "markdown",
   "id": "3bc617d0",
   "metadata": {},
   "source": [
    "# Rotate the elements of the list by k times"
   ]
  },
  {
   "cell_type": "code",
   "execution_count": 51,
   "id": "48a1998a",
   "metadata": {},
   "outputs": [
    {
     "name": "stdout",
     "output_type": "stream",
     "text": [
      "2\n",
      "[5, 10, 2, 3, 4]\n"
     ]
    }
   ],
   "source": [
    "def swap(k,l):   \n",
    "    lst = l[len(l)-k:] + l[:len(l)-k]\n",
    "    return lst\n",
    "    lst1 = l[k:] + l[:k]\n",
    "    return lst1\n",
    "lst = [2,3,4,5,10]\n",
    "n = int(input())\n",
    "print(swap(n,lst))"
   ]
  },
  {
   "cell_type": "markdown",
   "id": "cf46d704",
   "metadata": {},
   "source": [
    "# left Rotate"
   ]
  },
  {
   "cell_type": "code",
   "execution_count": 48,
   "id": "0aa1a137",
   "metadata": {},
   "outputs": [
    {
     "name": "stdout",
     "output_type": "stream",
     "text": [
      "2\n",
      "[4, 5, 10, 2, 3]\n"
     ]
    }
   ],
   "source": [
    "l = [2,3,4,5,10]\n",
    "k = int(input())\n",
    "lst1 = l[k:] + l[:k]\n",
    "print(lst1)"
   ]
  },
  {
   "cell_type": "code",
   "execution_count": 53,
   "id": "5709b561",
   "metadata": {},
   "outputs": [
    {
     "name": "stdout",
     "output_type": "stream",
     "text": [
      "[1, 2, 3, 5, 4]\n",
      "[1, 5, 6, 7]\n"
     ]
    }
   ],
   "source": [
    "# 1.remove duplicate from the lst\n",
    "lst = [1,2,3,3,2,3,1,5,5,4,4]\n",
    "l = []\n",
    "for i in lst:\n",
    "    if i not in l:\n",
    "        l.append(i)\n",
    "print(l)\n",
    "\n",
    "\n",
    "lst1 = [1,1,1,1,5,5,5,5,6,6,6,6,7,7,7]\n",
    "print(list(set(lst1)))"
   ]
  },
  {
   "cell_type": "code",
   "execution_count": 56,
   "id": "ef1135f7",
   "metadata": {},
   "outputs": [
    {
     "name": "stdout",
     "output_type": "stream",
     "text": [
      "55\n",
      "30\n"
     ]
    }
   ],
   "source": [
    "# 2. sum of even elements in the list\n",
    "lst = [1,2,3,4,5,6,7,8,9,10]\n",
    "print(sum(lst)) # total sum\n",
    "\n",
    "lls = []\n",
    "for i in lst:\n",
    "    if i % 2 == 0:\n",
    "        lls.append(i)\n",
    "print(sum(lls)) # even number sum"
   ]
  },
  {
   "cell_type": "code",
   "execution_count": 57,
   "id": "7fdc311c",
   "metadata": {},
   "outputs": [
    {
     "name": "stdout",
     "output_type": "stream",
     "text": [
      "25\n"
     ]
    }
   ],
   "source": [
    "# 3. sum of odd elements in the list\n",
    "lst = [1,2,3,4,5,6,7,8,9,10]\n",
    "ls = []\n",
    "for i in lst:\n",
    "    if i % 2 !=0:\n",
    "        ls.append(i)\n",
    "print(sum(ls)) # odd number sum"
   ]
  },
  {
   "cell_type": "code",
   "execution_count": 58,
   "id": "5970a1e7",
   "metadata": {},
   "outputs": [
    {
     "name": "stdout",
     "output_type": "stream",
     "text": [
      "[2, 4, 6, 8, 10]\n",
      "[1, 3, 5, 7, 9]\n"
     ]
    }
   ],
   "source": [
    "# 4. seperate the even and odd numbers from the list\n",
    "lst = [1,2,3,4,5,6,7,8,9,10]\n",
    "even = []\n",
    "odd = []\n",
    "for i in lst:\n",
    "    if i % 2 == 0:\n",
    "        even.append(i)\n",
    "    else:\n",
    "        odd.append(i)\n",
    "print(even)\n",
    "print(odd)"
   ]
  },
  {
   "cell_type": "code",
   "execution_count": 61,
   "id": "684e6f08",
   "metadata": {},
   "outputs": [
    {
     "name": "stdout",
     "output_type": "stream",
     "text": [
      "10\n",
      "10\n"
     ]
    }
   ],
   "source": [
    "# 5.count the number of elements in the list\n",
    "lst = [1,2,3,4,5,6,7,8,9,10]\n",
    "print(len(lst)) # built-in method\n",
    "\n",
    "c = 0\n",
    "for i in lst:\n",
    "    c+=1\n",
    "print(c) # without using built-in method"
   ]
  },
  {
   "cell_type": "code",
   "execution_count": 63,
   "id": "b466bbb9",
   "metadata": {},
   "outputs": [
    {
     "name": "stdout",
     "output_type": "stream",
     "text": [
      "55\n",
      "55\n"
     ]
    }
   ],
   "source": [
    "#6. Total sum in the lst\n",
    "lst = [1,2,3,4,5,6,7,8,9,10]\n",
    "print(sum(lst)) # built-in method\n",
    "\n",
    "s = 0\n",
    "for i in lst:\n",
    "    s+=i\n",
    "print(s) # without using buit-in method"
   ]
  },
  {
   "cell_type": "code",
   "execution_count": 65,
   "id": "72c5d492",
   "metadata": {},
   "outputs": [
    {
     "name": "stdout",
     "output_type": "stream",
     "text": [
      "10\n",
      "1\n"
     ]
    }
   ],
   "source": [
    "# 7,8 max and min in list\n",
    "lst = [1,2,3,4,5,6,7,8,9,10]\n",
    "print(max(lst))\n",
    "print(min(lst))\n",
    "ma = lst[0]\n",
    "for i in l"
   ]
  },
  {
   "cell_type": "code",
   "execution_count": 68,
   "id": "55abccfb",
   "metadata": {},
   "outputs": [
    {
     "name": "stdout",
     "output_type": "stream",
     "text": [
      "2\n",
      "[4, 5, 10, 2, 3]\n"
     ]
    }
   ],
   "source": [
    "# 9.left rotation of the lst\n",
    "\n",
    "l = [2,3,4,5,10]\n",
    "k = int(input())\n",
    "lst1 = l[k:] + l[:k]\n",
    "print(lst1)"
   ]
  },
  {
   "cell_type": "code",
   "execution_count": 67,
   "id": "fec81b9b",
   "metadata": {},
   "outputs": [
    {
     "name": "stdout",
     "output_type": "stream",
     "text": [
      "[5, 10, 2, 3, 4]\n"
     ]
    }
   ],
   "source": [
    "# 10. right rotation of the lst\n",
    "l = [2,3,4,5,10]\n",
    "d = 2\n",
    "lst = l[len(l)-d:]+l[:len(l)-d]\n",
    "print(lst)"
   ]
  },
  {
   "cell_type": "code",
   "execution_count": 90,
   "id": "4e337ccd",
   "metadata": {},
   "outputs": [
    {
     "name": "stdout",
     "output_type": "stream",
     "text": [
      "1 2 3 4 5 6 7 8 9\n",
      "[[1 2 3]\n",
      " [4 5 6]\n",
      " [7 8 9]]\n",
      "15\n"
     ]
    }
   ],
   "source": [
    "import numpy as np\n",
    "a = list(map(int,input().split()))\n",
    "mat = np.array(a).reshape(3,3)\n",
    "print(mat)\n",
    "print(np.trace(mat))"
   ]
  },
  {
   "cell_type": "code",
   "execution_count": 102,
   "id": "d5f1b2d7",
   "metadata": {},
   "outputs": [
    {
     "name": "stdout",
     "output_type": "stream",
     "text": [
      "1 2 3 \n",
      "4 5 6 \n",
      "7 8 9 \n"
     ]
    }
   ],
   "source": [
    "s=0\n",
    "for i in range(0,3):\n",
    "    for j in range(0,3):\n",
    "        s=s+1\n",
    "        print(s,end=' ')\n",
    "    print()"
   ]
  },
  {
   "cell_type": "code",
   "execution_count": 118,
   "id": "d203cdf9",
   "metadata": {},
   "outputs": [
    {
     "name": "stdout",
     "output_type": "stream",
     "text": [
      "1 2 3 4 5\n",
      "[6, 6, 6, 6, 6]\n"
     ]
    }
   ],
   "source": [
    "# find the sum of first and last element and continue upto middle\n",
    "l=list(map(int,input().split(' ')))\n",
    "i =1\n",
    "j =-1\n",
    "s = []\n",
    "for i in range(len(l)):\n",
    "    a= l[i]+l[j]\n",
    "    i+=1\n",
    "    j-=1\n",
    "    s.append(a)\n",
    "print(s)"
   ]
  },
  {
   "cell_type": "code",
   "execution_count": 128,
   "id": "ae5ce703",
   "metadata": {},
   "outputs": [
    {
     "name": "stdout",
     "output_type": "stream",
     "text": [
      "8\n",
      "8\n",
      "8\n",
      "8\n"
     ]
    }
   ],
   "source": [
    "l=[1,2,3,4,5,6,7]\n",
    "i=0;j=-1\n",
    "if len(l)%2==0:\n",
    "    c=len(l)//2\n",
    "else:\n",
    "    c=len(l)//2+1\n",
    "for k in range(c):\n",
    "    b=l[i]+l[j]\n",
    "    i+=1\n",
    "    j-=1\n",
    "    print(b)"
   ]
  },
  {
   "cell_type": "code",
   "execution_count": 1,
   "id": "649c65ff",
   "metadata": {},
   "outputs": [
    {
     "name": "stdout",
     "output_type": "stream",
     "text": [
      "8\n"
     ]
    }
   ],
   "source": [
    "l= [1,2,3,4,5,6,7]\n",
    "l2= l[len(l)//2]\n",
    "print(2*l2)"
   ]
  },
  {
   "cell_type": "markdown",
   "id": "e256a40f",
   "metadata": {},
   "source": [
    "# Formation of matrix"
   ]
  },
  {
   "cell_type": "code",
   "execution_count": 26,
   "id": "2db124ed",
   "metadata": {
    "scrolled": true
   },
   "outputs": [
    {
     "name": "stdout",
     "output_type": "stream",
     "text": [
      "enter no.of rows2\n",
      "enter no.of columns2\n",
      "1 2 3 4\n",
      "1 2 3 4\n",
      "[[1, 2, 3, 4], [1, 2, 3, 4]] 2 2\n",
      "20\n"
     ]
    },
    {
     "ename": "ValueError",
     "evalue": "Matrix must be square for opposite diagonal sum",
     "output_type": "error",
     "traceback": [
      "\u001b[1;31m---------------------------------------------------------------------------\u001b[0m",
      "\u001b[1;31mValueError\u001b[0m                                Traceback (most recent call last)",
      "Cell \u001b[1;32mIn[26], line 31\u001b[0m\n\u001b[0;32m     29\u001b[0m \u001b[38;5;28mprint\u001b[39m(l,row,col)\n\u001b[0;32m     30\u001b[0m \u001b[38;5;28mprint\u001b[39m(\u001b[38;5;28msum\u001b[39m(l,row,col))\n\u001b[1;32m---> 31\u001b[0m \u001b[38;5;28mprint\u001b[39m(sumoppositediagonal(l,row,col))\n",
      "Cell \u001b[1;32mIn[26], line 19\u001b[0m, in \u001b[0;36msumoppositediagonal\u001b[1;34m(l, row, col)\u001b[0m\n\u001b[0;32m     17\u001b[0m \u001b[38;5;28;01mdef\u001b[39;00m \u001b[38;5;21msumoppositediagonal\u001b[39m(l,row,col):\n\u001b[0;32m     18\u001b[0m     \u001b[38;5;28;01mif\u001b[39;00m \u001b[38;5;28mlen\u001b[39m(l) \u001b[38;5;241m!=\u001b[39m \u001b[38;5;28mlen\u001b[39m(l[\u001b[38;5;241m0\u001b[39m]):\n\u001b[1;32m---> 19\u001b[0m         \u001b[38;5;28;01mraise\u001b[39;00m \u001b[38;5;167;01mValueError\u001b[39;00m(\u001b[38;5;124m\"\u001b[39m\u001b[38;5;124mMatrix must be square for opposite diagonal sum\u001b[39m\u001b[38;5;124m\"\u001b[39m)\n\u001b[0;32m     20\u001b[0m     n \u001b[38;5;241m=\u001b[39m \u001b[38;5;28mlen\u001b[39m(l)\n\u001b[0;32m     21\u001b[0m     diagonal_sum \u001b[38;5;241m=\u001b[39m \u001b[38;5;241m0\u001b[39m\n",
      "\u001b[1;31mValueError\u001b[0m: Matrix must be square for opposite diagonal sum"
     ]
    }
   ],
   "source": [
    "def read(l,row,cols):\n",
    "    for i in range(row):\n",
    "        t= list(map(int,input().split()))\n",
    "        l.append(t)\n",
    "def printm(l,row,col):\n",
    "    for i in range(row):\n",
    "        for j in range(col):\n",
    "            print(l[i][j],end=',')\n",
    "        print()\n",
    "def sum(l,row,col):\n",
    "    s=0\n",
    "    for i in range(row):\n",
    "        for j in range(col):\n",
    "            s=+l[i][j]\n",
    "        print()\n",
    "    return s\n",
    "def sumoppositediagonal(l,row,col):\n",
    "    if len(l) != len(l[0]):\n",
    "        raise ValueError(\"Matrix must be square for opposite diagonal sum\")\n",
    "    n = len(l)\n",
    "    diagonal_sum = 0\n",
    "    for i in range(n):\n",
    "        diagonal_sum += l[i][n - 1 - i]\n",
    "    return diagonal_sum\n",
    "row= int(input(\"enter no.of rows\"))\n",
    "col=int(input(\"enter no.of columns\"))\n",
    "l=[]\n",
    "read (l,row,col)\n",
    "print(l,row,col)\n",
    "print(sum(l,row,col))\n",
    "sumoppositediagonal(l,row,col)\n"
   ]
  },
  {
   "cell_type": "code",
   "execution_count": null,
   "id": "a27309d3",
   "metadata": {},
   "outputs": [],
   "source": []
  },
  {
   "cell_type": "code",
   "execution_count": null,
   "id": "5394705a",
   "metadata": {},
   "outputs": [],
   "source": []
  }
 ],
 "metadata": {
  "kernelspec": {
   "display_name": "Python 3 (ipykernel)",
   "language": "python",
   "name": "python3"
  },
  "language_info": {
   "codemirror_mode": {
    "name": "ipython",
    "version": 3
   },
   "file_extension": ".py",
   "mimetype": "text/x-python",
   "name": "python",
   "nbconvert_exporter": "python",
   "pygments_lexer": "ipython3",
   "version": "3.11.5"
  }
 },
 "nbformat": 4,
 "nbformat_minor": 5
}
