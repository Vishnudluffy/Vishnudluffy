{
 "cells": [
  {
   "cell_type": "markdown",
   "id": "e2489310",
   "metadata": {},
   "source": [
    "# STRONG NUMBER"
   ]
  },
  {
   "cell_type": "code",
   "execution_count": 5,
   "id": "460c3710",
   "metadata": {},
   "outputs": [
    {
     "name": "stdout",
     "output_type": "stream",
     "text": [
      "enter a number123\n",
      "9\n",
      "the given number 123 is not a strong number.\n"
     ]
    }
   ],
   "source": [
    "import math as m\n",
    "'''\n",
    "If a sum of factorial of individual digits is \n",
    "equal to the given number is called strong number\n",
    "example:- n = 145\n",
    "-> 1!+4!+5! == 145\n",
    "'''\n",
    "def strong(n):\n",
    "    temp = n\n",
    "    s= 0\n",
    "    while n!=0:\n",
    "        rem = n%10\n",
    "        s += m.factorial(rem)\n",
    "        n//=10\n",
    "    print(s)\n",
    "    if temp == s:\n",
    "        print(f\"the given number {temp} is a strong number.\")\n",
    "    else:\n",
    "        print(f\"the given number {temp} is not a strong number.\")\n",
    "x= int(input(\"enter a number\"))\n",
    "strong(x)\n",
    "#     OR\n",
    "'''\n",
    "def strong(n):\n",
    "    temp = n\n",
    "    s=0\n",
    "    fact=1\n",
    "    while n!=0:\n",
    "        rem = n%10\n",
    "        for i in range(1,rem+1):\n",
    "            fact = fact * i\n",
    "        s+=fact\n",
    "        n//=10\n",
    "    return s\n",
    "    print(f\"the given {temp} is \") if temp == s else print(f\"the given {temp} is not a strong number\")\n",
    "x = int(input(\"enter a number to check whether the given number is strong or not:\"))\n",
    "print(strong(x))\n",
    "'''"
   ]
  },
  {
   "cell_type": "markdown",
   "id": "9dcef46b",
   "metadata": {},
   "source": [
    "# SPY NUMBER "
   ]
  },
  {
   "cell_type": "code",
   "execution_count": 10,
   "id": "dc8ab600",
   "metadata": {},
   "outputs": [
    {
     "name": "stdout",
     "output_type": "stream",
     "text": [
      "enter a number :111\n",
      "3\n",
      "1\n",
      "the given number 111 is not a spy number \n"
     ]
    }
   ],
   "source": [
    "'''\n",
    "Sum of individual digits of a given number and \n",
    "Product of individual digits of a given number is equal \n",
    "then the number is SPY Number.\n",
    "Example:-\n",
    "n = 132\n",
    "1+2+3 = 1*2*3\n",
    "  6   =   6\n",
    "'''\n",
    "def spy(n):\n",
    "    temp=n\n",
    "    s=0\n",
    "    p=1\n",
    "    while n!=0:\n",
    "        rem = n % 10\n",
    "        s+=rem\n",
    "        p*=rem\n",
    "        n//=10\n",
    "    print(s)\n",
    "    print(p)\n",
    "    print(f\"the given number {temp} is a spy number \")if s == p else print(f\"the given number {temp} is not a spy number \")\n",
    "x= int(input(\"enter a number :\"))\n",
    "spy(x)"
   ]
  },
  {
   "cell_type": "markdown",
   "id": "6a0449d4",
   "metadata": {},
   "source": [
    "# NEON NUMBER"
   ]
  },
  {
   "cell_type": "code",
   "execution_count": 2,
   "id": "07fabca3",
   "metadata": {},
   "outputs": [
    {
     "name": "stdout",
     "output_type": "stream",
     "text": [
      "Enter a number: 6\n",
      "9\n",
      "The given 6 is not a neon number\n"
     ]
    }
   ],
   "source": [
    "'''\n",
    "The square of a given number \n",
    "sum of individual digits of square is equal to given number \n",
    "then it is called as NEON number\n",
    "Example:- 9**2=81 => 8+1=9\n",
    "            9     =      9\n",
    "'''\n",
    "def neon(n) :\n",
    "    temp = n ** 2\n",
    "    s=0\n",
    "    while temp != 0 :\n",
    "        rem = temp % 10\n",
    "        s+=rem\n",
    "        temp//=10\n",
    "    print(s)\n",
    "    print(f\"The given {n} is a neon number\") if n==s else print(f\"The given {n} is not a neon number\")\n",
    "x = int(input('Enter a number: '))\n",
    "neon(x)\n",
    "        \n"
   ]
  },
  {
   "cell_type": "markdown",
   "id": "7cdf997f",
   "metadata": {},
   "source": [
    "# PRONIC NUMBER"
   ]
  },
  {
   "cell_type": "code",
   "execution_count": null,
   "id": "1283d03c",
   "metadata": {},
   "outputs": [],
   "source": [
    "''' \n",
    "\n",
    "'''"
   ]
  }
 ],
 "metadata": {
  "kernelspec": {
   "display_name": "Python 3 (ipykernel)",
   "language": "python",
   "name": "python3"
  },
  "language_info": {
   "codemirror_mode": {
    "name": "ipython",
    "version": 3
   },
   "file_extension": ".py",
   "mimetype": "text/x-python",
   "name": "python",
   "nbconvert_exporter": "python",
   "pygments_lexer": "ipython3",
   "version": "3.11.5"
  }
 },
 "nbformat": 4,
 "nbformat_minor": 5
}
