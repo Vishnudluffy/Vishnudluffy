{
 "cells": [
  {
   "cell_type": "markdown",
   "id": "e2489310",
   "metadata": {},
   "source": [
    "# STRONG NUMBER"
   ]
  },
  {
   "cell_type": "code",
   "execution_count": 5,
   "id": "460c3710",
   "metadata": {},
   "outputs": [
    {
     "name": "stdout",
     "output_type": "stream",
     "text": [
      "enter a number123\n",
      "9\n",
      "the given number 123 is not a strong number.\n"
     ]
    }
   ],
   "source": [
    "import math as m\n",
    "'''\n",
    "If a sum of factorial of individual digits is \n",
    "equal to the given number is called strong number\n",
    "example:- n = 145\n",
    "-> 1!+4!+5! == 145\n",
    "'''\n",
    "def strong(n):\n",
    "    temp = n\n",
    "    s= 0\n",
    "    while n!=0:\n",
    "        rem = n%10\n",
    "        s += m.factorial(rem)\n",
    "        n//=10\n",
    "    print(s)\n",
    "    if temp == s:\n",
    "        print(f\"the given number {temp} is a strong number.\")\n",
    "    else:\n",
    "        print(f\"the given number {temp} is not a strong number.\")\n",
    "x= int(input(\"enter a number\"))\n",
    "strong(x)\n",
    "#----------------------------------OR------------------------------------\n",
    "'''\n",
    "def strong(n):\n",
    "    temp = n\n",
    "    s=0\n",
    "    fact=1\n",
    "    while n!=0:\n",
    "        rem = n%10\n",
    "        for i in range(1,rem+1):\n",
    "            fact = fact * i\n",
    "        s+=fact\n",
    "        n//=10\n",
    "    return s\n",
    "    print(f\"the given {temp} is \") if temp == s else print(f\"the given {temp} is not a strong number\")\n",
    "x = int(input(\"enter a number to check whether the given number is strong or not:\"))\n",
    "print(strong(x))\n",
    "'''"
   ]
  },
  {
   "cell_type": "markdown",
   "id": "9dcef46b",
   "metadata": {},
   "source": [
    "# SPY NUMBER "
   ]
  },
  {
   "cell_type": "code",
   "execution_count": 10,
   "id": "dc8ab600",
   "metadata": {},
   "outputs": [
    {
     "name": "stdout",
     "output_type": "stream",
     "text": [
      "enter a number :111\n",
      "3\n",
      "1\n",
      "the given number 111 is not a spy number \n"
     ]
    }
   ],
   "source": [
    "'''\n",
    "Sum of individual digits of a given number and \n",
    "Product of individual digits of a given number is equal \n",
    "then the number is SPY Number.\n",
    "Example:-\n",
    "n = 132\n",
    "1+2+3 = 1*2*3\n",
    "  6   =   6\n",
    "'''\n",
    "def spy(n):\n",
    "    temp=n\n",
    "    s=0\n",
    "    p=1\n",
    "    while n!=0:\n",
    "        rem = n % 10\n",
    "        s+=rem\n",
    "        p*=rem\n",
    "        n//=10\n",
    "    print(s)\n",
    "    print(p)\n",
    "    print(f\"the given number {temp} is a spy number \")if s == p else print(f\"the given number {temp} is not a spy number \")\n",
    "x= int(input(\"enter a number :\"))\n",
    "spy(x)"
   ]
  },
  {
   "cell_type": "markdown",
   "id": "6a0449d4",
   "metadata": {},
   "source": [
    "# NEON NUMBER"
   ]
  },
  {
   "cell_type": "code",
   "execution_count": 2,
   "id": "07fabca3",
   "metadata": {},
   "outputs": [
    {
     "name": "stdout",
     "output_type": "stream",
     "text": [
      "Enter a number: 6\n",
      "9\n",
      "The given 6 is not a neon number\n"
     ]
    }
   ],
   "source": [
    "'''\n",
    "The square of a given number \n",
    "sum of individual digits of square is equal to given number \n",
    "then it is called as NEON number\n",
    "Example:- 9**2=81 => 8+1=9\n",
    "            9     =      9\n",
    "'''\n",
    "def neon(n) :\n",
    "    temp = n ** 2\n",
    "    s=0\n",
    "    while temp != 0 :\n",
    "        rem = temp % 10\n",
    "        s+=rem\n",
    "        temp//=10\n",
    "    print(s)\n",
    "    print(f\"The given {n} is a neon number\") if n==s else print(f\"The given {n} is not a neon number\")\n",
    "x = int(input('Enter a number: '))\n",
    "neon(x)\n",
    "        \n"
   ]
  },
  {
   "cell_type": "markdown",
   "id": "7cdf997f",
   "metadata": {},
   "source": [
    "# PRONIC NUMBER"
   ]
  },
  {
   "cell_type": "code",
   "execution_count": 5,
   "id": "1283d03c",
   "metadata": {},
   "outputs": [
    {
     "name": "stdout",
     "output_type": "stream",
     "text": [
      "Enter a number:10\n",
      "10 is not a pronic number\n"
     ]
    }
   ],
   "source": [
    "''' \n",
    "Product two consecutive number (paka paka na vacha numbers oka product)\n",
    "is equal to the given number.\n",
    "Example:- 6 = 3*2 or 2*3 (here 3 and 2 atr consecutive numbers)\n",
    "'''\n",
    "def pronic(n):\n",
    "    s=0\n",
    "    for i in range(1,n+1):\n",
    "        if i*(i+1) == n:\n",
    "            s=1\n",
    "            break\n",
    "    print(f\"{n} is a pronic number\") if s==1 else print(f\"{n} is not a pronic number\")\n",
    "x= int(input(\"Enter a number:\"))\n",
    "pronic(x)\n"
   ]
  },
  {
   "cell_type": "markdown",
   "id": "41cfbd3f",
   "metadata": {},
   "source": [
    "# BUZZ NUMBER"
   ]
  },
  {
   "cell_type": "code",
   "execution_count": null,
   "id": "cfc05835",
   "metadata": {},
   "outputs": [],
   "source": [
    "'''\n",
    "The number should ends with 7 or divisible 7 then the number is called as buzz number\n",
    "Example:- 17 if 17  %10=7 or it is /7 ==0\n",
    "'''\n",
    "def buzz(n):\n",
    "     if n%10==7 or n%7==0:\n",
    "            return f\"{n} is a buzz number\"\n",
    "     else:\n",
    "            return f\"{n} is not a buzz number\"\n",
    "x = int(input())\n",
    "print(buzz(x))"
   ]
  },
  {
   "cell_type": "markdown",
   "id": "9375875e",
   "metadata": {},
   "source": [
    "# SUPER DIGIT"
   ]
  },
  {
   "cell_type": "code",
   "execution_count": 6,
   "id": "c2a590d0",
   "metadata": {},
   "outputs": [
    {
     "name": "stdout",
     "output_type": "stream",
     "text": [
      "enter a number:123\n",
      "the super digit of a given number :6 \n"
     ]
    }
   ],
   "source": [
    "'''sum of all individual digits of given number \n",
    "should be equal to an single number.\n",
    "Example:- 1234=1+2+3+4=10 => 1+0=1 then 1234 is a super digit.\n",
    "'''\n",
    "def super(n):\n",
    "    while n>=10:\n",
    "        x=n\n",
    "        s=0\n",
    "        while x!=0:\n",
    "            rem = x % 10\n",
    "            s+=rem\n",
    "            x//=10\n",
    "        n=s\n",
    "    return f\"the super digit of a given number :{s} \"\n",
    "num = int(input(\"enter a number:\"))\n",
    "print(super(num))"
   ]
  },
  {
   "cell_type": "markdown",
   "id": "920a0052",
   "metadata": {},
   "source": [
    "# MAGIC NUMBER"
   ]
  },
  {
   "cell_type": "code",
   "execution_count": 8,
   "id": "c85ae374",
   "metadata": {},
   "outputs": [
    {
     "name": "stdout",
     "output_type": "stream",
     "text": [
      "enter a number:123\n",
      "The given number is not a magic number\n"
     ]
    }
   ],
   "source": [
    "'''\n",
    "sum of all individual digits of given number \n",
    "should be equal to a magic number.\n",
    "Example:-\n",
    "123=1+2+3+4= 10 => 1+0 = 1\n",
    "'''\n",
    "def magic(n):\n",
    "    while n>=10:\n",
    "        x=n\n",
    "        s=0\n",
    "        while x!=0:\n",
    "            rem = x%10\n",
    "            s+=rem\n",
    "            x//=10\n",
    "        n=s\n",
    "    print(f\"The given number is a magic number\") if s==1 else print(\"The given number is not a magic number\")\n",
    "num = int(input(\"enter a number:\"))\n",
    "magic(num)"
   ]
  },
  {
   "cell_type": "markdown",
   "id": "a9703c25",
   "metadata": {},
   "source": [
    "# NIVEN / HARSHAD NUMBER"
   ]
  },
  {
   "cell_type": "code",
   "execution_count": 12,
   "id": "ad11f573",
   "metadata": {},
   "outputs": [
    {
     "name": "stdout",
     "output_type": "stream",
     "text": [
      "enter a number :18\n",
      "The given number is harshad number\n"
     ]
    }
   ],
   "source": [
    "'''\n",
    "if a give number is divisible sum of it's  individual digits is called as a NIVEN / HARSHAD NUMBER\n",
    "Example:- 18 = 1+8 => 18 % (1+8) ==0 then it is a NIVEN / HARSHAD NUMBER\n",
    "'''\n",
    "def harshad(n):\n",
    "    temp = n \n",
    "    s=0\n",
    "    while temp>0:\n",
    "        rem =temp%10\n",
    "        s+=rem\n",
    "        temp//=10\n",
    "    print(f\"The given number is harshad number\") if n%s==0 else print(f\"The given number not a harshad number\")\n",
    "    \n",
    "x= int(input(\"enter a number :\"))\n",
    "harshad(x)\n",
    "        "
   ]
  },
  {
   "cell_type": "markdown",
   "id": "1a7b6d8b",
   "metadata": {},
   "source": [
    "# DISARIUM NUMBER"
   ]
  },
  {
   "cell_type": "code",
   "execution_count": 7,
   "id": "38bbbbdd",
   "metadata": {},
   "outputs": [
    {
     "name": "stdout",
     "output_type": "stream",
     "text": [
      "enter a number:67\n",
      "The given number 67 is not a dsarium number\n"
     ]
    }
   ],
   "source": [
    "'''\n",
    "Sum of digits raised to the power of it's respective positions is equals to the given number id called as DISARUM NUMBER\n",
    "Example:- 89 = pow(8,1) + pow(8,2) = 8+81 = 89\n",
    "'''\n",
    "def disarium(n):\n",
    "    temp = n\n",
    "    y=n\n",
    "    c=0\n",
    "    while temp>0:\n",
    "        temp//=10\n",
    "        c+=1\n",
    "    s=0\n",
    "    while y>0:\n",
    "        rem= y%10\n",
    "        s=s+rem**c\n",
    "        y//=10\n",
    "        c-=1\n",
    "    print(f\"The given number {n} is a disarium number \") if s==n else print(f\"The given number {n} is not a dsarium number\")\n",
    "x=int(input(\"enter a number:\"))\n",
    "disarium(x)\n",
    "\n",
    "            "
   ]
  },
  {
   "cell_type": "markdown",
   "id": "bb5e49ce",
   "metadata": {},
   "source": [
    "# FASCINATING NUMBER "
   ]
  },
  {
   "cell_type": "code",
   "execution_count": 8,
   "id": "c8cf973c",
   "metadata": {},
   "outputs": [
    {
     "data": {
      "text/plain": [
       "'\\nThe fascinating number can be done for the 3 digit number only.\\nThen multiply the given number with 3 and 2\\n'"
      ]
     },
     "execution_count": 8,
     "metadata": {},
     "output_type": "execute_result"
    }
   ],
   "source": [
    "'''\n",
    "The fascinating number can be done for the 3 digit number only.\n",
    "Then multiply the given number with 3 and 2\n",
    "'''"
   ]
  }
 ],
 "metadata": {
  "kernelspec": {
   "display_name": "Python 3 (ipykernel)",
   "language": "python",
   "name": "python3"
  },
  "language_info": {
   "codemirror_mode": {
    "name": "ipython",
    "version": 3
   },
   "file_extension": ".py",
   "mimetype": "text/x-python",
   "name": "python",
   "nbconvert_exporter": "python",
   "pygments_lexer": "ipython3",
   "version": "3.11.5"
  }
 },
 "nbformat": 4,
 "nbformat_minor": 5
}
