{
 "cells": [
  {
   "cell_type": "markdown",
   "metadata": {},
   "source": [
    "# This my Numpy notebook"
   ]
  },
  {
   "cell_type": "code",
   "execution_count": null,
   "metadata": {},
   "outputs": [],
   "source": [
    "'''numpy: numpy is also called as numerical python.\n",
    "it is also used to do thr mathematical operatins on arrays.\n",
    "Why numpy? Why not lists?\n",
    "numpy arrays are 50 times faster then lists and also numpy is more memory-efficient. \n",
    "Where lists are not efficient.'''\n",
    "#Creation of numpy\n",
    "import numpy as np\n",
    "a=np.array(2)# It is a one dimentional array\n",
    "b=np.array([1,2,3,4,5,6,7,8,9,10,11])# It is a 1 dimentional array\n",
    "c=np.array([[1,2,3],[4,5,6]])# It is 2D array\n",
    "d=np.array([[[[1,2,3],[4,5,6]],[[7,8,9],[10,11,12]]]])# It is a 3D array\n",
    "# We can create N number of array with N dimentions\n",
    "print(a)\n",
    "print(b)\n",
    "print(c)\n",
    "print(d)"
   ]
  },
  {
   "cell_type": "code",
   "execution_count": null,
   "metadata": {},
   "outputs": [],
   "source": []
  },
  {
   "cell_type": "code",
   "execution_count": null,
   "metadata": {},
   "outputs": [],
   "source": [
    "#asarray(array, dtype = datatype,order=\"C or F\")\n",
    "e = np.asarray(d,dtype=float,order=\"C\")\n",
    "f =  np.asarray(d,dtype=float,order=\"F\")\n",
    "print(e)\n",
    "'''nditer(array)\n",
    "We have to use nditer() with asarray()'''\n",
    "print(f'the array after applying np.nditr() for columns')\n",
    "for i in np.nditer(e):\n",
    "    print(i)\n",
    "print(f'the array after applying np.nditr() for rows')\n",
    "for i in np.nditer(f):\n",
    "    print(f)"
   ]
  },
  {
   "cell_type": "code",
   "execution_count": null,
   "metadata": {},
   "outputs": [],
   "source": [
    "#frombuffer(array, dtype = int,count=5,offset=2)\n",
    "print( np.frombuffer(b,dtype = \"S1\",count=3,offset=2))\n",
    "print()"
   ]
  }
 ],
 "metadata": {
  "kernelspec": {
   "display_name": "Python 3 (ipykernel)",
   "language": "python",
   "name": "python3"
  },
  "language_info": {
   "codemirror_mode": {
    "name": "ipython",
    "version": 3
   },
   "file_extension": ".py",
   "mimetype": "text/x-python",
   "name": "python",
   "nbconvert_exporter": "python",
   "pygments_lexer": "ipython3",
   "version": "3.11.5"
  }
 },
 "nbformat": 4,
 "nbformat_minor": 2
}
